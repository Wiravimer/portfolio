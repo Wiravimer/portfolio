{
  "nbformat": 4,
  "nbformat_minor": 0,
  "metadata": {
    "colab": {
      "provenance": []
    },
    "kernelspec": {
      "name": "python3",
      "display_name": "Python 3"
    },
    "language_info": {
      "name": "python"
    }
  },
  "cells": [
    {
      "cell_type": "markdown",
      "source": [
        "###**Кодирование**\n"
      ],
      "metadata": {
        "id": "YplKVsDLraJF"
      }
    },
    {
      "cell_type": "code",
      "source": [
        "from PIL import Image,ImageDraw\n",
        "\n",
        "def extracting_pixel(file_name, channel='pixel'):\n",
        "  # with автоматически закроет файл после работы\n",
        "  with Image.open(file_name) as img:#.open для чтения изображения из файла\n",
        "      obj=img.load()#для чтения изображения в память, чтобы файл можно было закрыть\n",
        "      num_row,num_col=img.size #.size получаем размеры изображения (16 на 16 пиксилей)\n",
        "      blue=[]#для хранение синего канала каждого пикселя\n",
        "      # проходить изображение попиксельно\n",
        "      for row in range(num_row):\n",
        "          for col in range(num_col):\n",
        "            if channel == 'pixel':\n",
        "              blue.append(obj[row,col])\n",
        "            else:\n",
        "              blue.append(obj[row,col][channel])#[channel] указывает на канал (синий=2); [row,col] координаты пиксиля; obj изображение\n",
        "  return blue\n",
        "\n",
        "def group(listing, count):\n",
        "  return [listing[i:i + count] for i in range(0, len(listing), count)]\n",
        "\n",
        "\n",
        "def NZB (num):#наименьший значащий бит(НЗБ)\n",
        "  return bin(num)[-1]\n",
        "\n",
        "def find_index(value, lst):\n",
        "  for tpl in lst:\n",
        "    if value == tpl[1]:\n",
        "      return tpl[0]\n",
        "\n",
        "def find_position(value, lst):\n",
        "  for i in range(len(lst)):\n",
        "    if value == lst[i][1]:\n",
        "      return i\n",
        "\n",
        "def find_new_value(bit, value, lst):\n",
        "  position_up=position_down=find_position(value, lst)\n",
        "  value_up=value_down=0\n",
        "\n",
        "  for i in lst:\n",
        "    if position_up+1 < len(lst):\n",
        "      position_up+=1\n",
        "      if NZB(lst[position_up][0]) == bit:\n",
        "        value_up=lst[position_up][1]-value\n",
        "        break\n",
        "\n",
        "  for i in lst:\n",
        "    if position_down-1 > 0:\n",
        "      position_down-=1\n",
        "      if NZB(lst[position_down][0]) == bit:\n",
        "        value_down=value-lst[position_down][1]\n",
        "        break\n",
        "\n",
        "  if value_down <= value_up:\n",
        "    return lst[position_down][1]\n",
        "  else:\n",
        "    return lst[position_up][1]\n",
        "\n",
        "def find_new_blue(bin_data, blue, blue_sort):\n",
        "  new_blue=[]\n",
        "  for index, bit in enumerate(bin_data):\n",
        "    if NZB(find_index(blue[index], blue_sort))==bit:\n",
        "      new_blue.append(blue[index])\n",
        "    else:\n",
        "      new_blue.append(find_new_value(bit, blue[index], blue_sort))\n",
        "  return new_blue\n",
        "\n",
        "def newImg(size, list_pixel):\n",
        "    img = Image.new('RGB', size)\n",
        "    num_row,num_col=size\n",
        "    i=0\n",
        "    for row in range(num_row):\n",
        "        for col in range(num_col):\n",
        "            img.putpixel((row,col), list_pixel[i])\n",
        "            i+=1\n",
        "    img.save('sqr.bmp')\n",
        "    return img"
      ],
      "metadata": {
        "id": "m36czmR1y-ZF"
      },
      "execution_count": null,
      "outputs": []
    },
    {
      "cell_type": "code",
      "source": [
        "container = \"/content/drive/MyDrive/Контейнер.bmp\"\n",
        "blue = extracting_pixel(container, 2)#извлечение синего канала\n",
        "# Создание уникального кортежа типа (порядковый номер, значение синего канала);\n",
        "blue_unique=[(index,value) for index,value in enumerate(list(set(blue)))]#list(set(blue)) оставляет только уникальные значения синего канала;\n",
        "blue_sort=sorted(blue_unique, key=lambda i: i[1])#сортировка синего канала по возрастанию"
      ],
      "metadata": {
        "id": "qje2NqxtrDC5"
      },
      "execution_count": null,
      "outputs": []
    },
    {
      "cell_type": "code",
      "source": [
        "cvz = '/content/drive/MyDrive/QRcode.bmp'\n",
        "with open(cvz, 'rb') as file:\n",
        "  byte = file.read()#чтение байтов файла (b'BM6\\x03\\x00\\x00\\x00\\x00\\x00\\x006\\')\n",
        "\n",
        "byte_list=group(byte.hex(), 2)#.hex() переводит из BM6\\x03\\x00\\x00\\  в 424d3603; групирует последовательность байт по 2 (['42', '4d', '36', '03']);\n",
        "\n",
        "bin_text= ''.join([bin(int(byte, base=16))[2:].zfill(8) for byte in byte_list])#bin(int(byte, base=16)) переводит каждый байт в биты ('42'->'01000010'); [2:] обрезает 0b в тексте '0b101001'; .zfill(8) дополняет нулями до 8 цифр (101001 -> 00101001); ''.join() соеденяет значения в списке (['01000010', '01001101'] -> 0100001001001101)"
      ],
      "metadata": {
        "id": "J1VZxZYSbBim"
      },
      "execution_count": null,
      "outputs": []
    },
    {
      "cell_type": "code",
      "source": [
        "new_blue = find_new_blue(bin_text, blue, blue_sort)\n",
        "pixel_image = extracting_pixel(container)\n",
        "\n",
        "new_pixel_image=[]\n",
        "length=len(new_blue)\n",
        "head=pixel_image[:length]# Задаём конечным индексом, конец не включается\n",
        "body=pixel_image[length:]# Задаём начальным индексом, начало включается\n",
        "\n",
        "for index, pixel in enumerate(head):\n",
        "  r,g,b=pixel\n",
        "  new_pixel = (r, g, new_blue[index])\n",
        "  new_pixel_image.append(new_pixel)\n",
        "\n",
        "new_pixel_image+=body\n",
        "\n",
        "with Image.open(container) as img:\n",
        "  size=img.size\n",
        "wallpaper = newImg(size, new_pixel_image)"
      ],
      "metadata": {
        "id": "5z0sDEOvCy1Z"
      },
      "execution_count": null,
      "outputs": []
    },
    {
      "cell_type": "markdown",
      "source": [
        "---\n",
        "###**Декодирование**"
      ],
      "metadata": {
        "id": "5HUerkHXrMrE"
      }
    },
    {
      "cell_type": "code",
      "source": [
        "blue_list = extracting_pixel('sqr.bmp', 2)\n",
        "\n",
        "bin_str=''\n",
        "for blue in blue_list:\n",
        "  bit=NZB(find_index(blue, blue_sort))\n",
        "  bin_str+=bit\n",
        "\n",
        "group_bits=group(bin_str, 8)\n",
        "byte_list = bytes([int(bits, 2) for bits in group_bits])\n",
        "\n",
        "with open(\"test.bmp\", \"wb\") as f:\n",
        "    f.write(byte_list)"
      ],
      "metadata": {
        "id": "5XjnCHNEuxVk"
      },
      "execution_count": null,
      "outputs": []
    }
  ]
}